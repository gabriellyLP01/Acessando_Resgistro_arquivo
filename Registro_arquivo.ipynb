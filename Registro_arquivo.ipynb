{
  "nbformat": 4,
  "nbformat_minor": 0,
  "metadata": {
    "colab": {
      "provenance": [],
      "authorship_tag": "ABX9TyOFUhz5Ei+T+UOaO27txLAU",
      "include_colab_link": true
    },
    "kernelspec": {
      "name": "python3",
      "display_name": "Python 3"
    },
    "language_info": {
      "name": "python"
    }
  },
  "cells": [
    {
      "cell_type": "markdown",
      "metadata": {
        "id": "view-in-github",
        "colab_type": "text"
      },
      "source": [
        "<a href=\"https://colab.research.google.com/github/gabriellyLP01/Acessando_Resgistro_arquivo/blob/main/Registro_arquivo.ipynb\" target=\"_parent\"><img src=\"https://colab.research.google.com/assets/colab-badge.svg\" alt=\"Open In Colab\"/></a>"
      ]
    },
    {
      "cell_type": "markdown",
      "source": [
        "#Desafio"
      ],
      "metadata": {
        "id": "Pus7-Mt8nL6V"
      }
    },
    {
      "cell_type": "markdown",
      "source": [
        "1."
      ],
      "metadata": {
        "id": "Da6VPRwgsLDA"
      }
    },
    {
      "cell_type": "code",
      "source": [
        "nome = \"Gabrielly\"\n",
        "idade = 21\n",
        "cidade = \"São Bernardo do Campo\"\n",
        "\n",
        "print(f\"Olá! Meu nome é {nome}. Eu tenho {idade} anos e moro em {cidade}.\")"
      ],
      "metadata": {
        "colab": {
          "base_uri": "https://localhost:8080/"
        },
        "id": "hmD8rfOknP2D",
        "outputId": "101f0181-3a06-4d13-ad76-721032559b0c"
      },
      "execution_count": null,
      "outputs": [
        {
          "output_type": "stream",
          "name": "stdout",
          "text": [
            "Olá! Meu nome é Gabrielly. Eu tenho 21 anos e moro em São Bernardo do Campo.\n"
          ]
        }
      ]
    },
    {
      "cell_type": "markdown",
      "source": [
        "2."
      ],
      "metadata": {
        "id": "a0_Cgbn9sNZ8"
      }
    },
    {
      "cell_type": "code",
      "source": [
        "numeros = [10, 20, 30, 40, 50]\n",
        "\n",
        "soma = sum(numeros)\n",
        "div = soma / 5\n",
        "\n",
        "print(div)"
      ],
      "metadata": {
        "colab": {
          "base_uri": "https://localhost:8080/"
        },
        "id": "tCEMtHVBsTSP",
        "outputId": "bd65a7a2-bcb0-4648-8881-29be10b83ce3"
      },
      "execution_count": null,
      "outputs": [
        {
          "output_type": "stream",
          "name": "stdout",
          "text": [
            "30.0\n"
          ]
        }
      ]
    },
    {
      "cell_type": "markdown",
      "source": [
        "3."
      ],
      "metadata": {
        "id": "jhzdvHJRuSQS"
      }
    },
    {
      "cell_type": "code",
      "source": [
        "joao = [300, 500, 200, 800]\n",
        "pedro = [200, 400, 500, 700]\n",
        "\n",
        "somj = sum(joao)\n",
        "somp = sum(pedro)\n",
        "\n",
        "\n",
        "if somj > somp:\n",
        "    print(\"João gastou mais\")\n",
        "\n",
        "elif somp > somj:\n",
        "    print(\"Pedro gastou mais\")\n",
        "else:\n",
        "  print(\"Os dois gastaram o mesmo valor\")"
      ],
      "metadata": {
        "colab": {
          "base_uri": "https://localhost:8080/"
        },
        "id": "xWrl9SADuZ-E",
        "outputId": "46036c94-2b2a-456e-8c78-88b3690814e6"
      },
      "execution_count": null,
      "outputs": [
        {
          "output_type": "stream",
          "name": "stdout",
          "text": [
            "Os dois gastaram o mesmo valor\n"
          ]
        }
      ]
    }
  ]
}